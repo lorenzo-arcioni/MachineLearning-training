{
 "cells": [
  {
   "cell_type": "code",
   "execution_count": 13,
   "metadata": {},
   "outputs": [],
   "source": [
    "from PIL import Image\n",
    "import os\n",
    "\n",
    "# Percorso della directory con le immagini originali\n",
    "input_directory = './latex_png/'\n",
    "# Nome della nuova directory dove salvare i risultati\n",
    "output_directory = os.path.join(input_directory, 'results')\n",
    "\n",
    "# Creare la nuova directory se non esiste\n",
    "os.makedirs(output_directory, exist_ok=True)"
   ]
  },
  {
   "cell_type": "code",
   "execution_count": 14,
   "metadata": {},
   "outputs": [],
   "source": [
    "# Funzione per invertire i colori\n",
    "def invert_colors(image_path, output_path):\n",
    "    # Apri l'immagine\n",
    "    img = Image.open(image_path).convert(\"RGBA\")\n",
    "    width, height = img.size\n",
    "    pixels = img.load()\n",
    "\n",
    "    # Scorriamo ogni pixel e applichiamo l'inversione dei colori\n",
    "    for x in range(width):\n",
    "        for y in range(height):\n",
    "            r, g, b, a = pixels[x, y]  # Estrai i valori RGBA\n",
    "\n",
    "            # Inverti i valori RGB (255 - valore corrente)\n",
    "            inverted_r = 255 - r\n",
    "            inverted_g = 255 - g\n",
    "            inverted_b = 255 - b\n",
    "\n",
    "            # Imposta il nuovo valore invertito, mantenendo la trasparenza (a)\n",
    "            pixels[x, y] = (inverted_r, inverted_g, inverted_b, a)\n",
    "\n",
    "    # Salva l'immagine nella nuova directory\n",
    "    img.save(output_path, \"PNG\")"
   ]
  },
  {
   "cell_type": "code",
   "execution_count": 15,
   "metadata": {},
   "outputs": [
    {
     "name": "stdout",
     "output_type": "stream",
     "text": [
      "Conversione completata!\n"
     ]
    }
   ],
   "source": [
    "# Elaborazione di tutte le immagini nella directory\n",
    "for filename in os.listdir(input_directory):\n",
    "    if filename.endswith(\".png\"):  # Considera solo i file PNG\n",
    "        file_path = os.path.join(input_directory, filename)\n",
    "        output_path = os.path.join(output_directory, filename)\n",
    "        invert_colors(file_path, output_path)\n",
    "\n",
    "print(\"Conversione completata!\")"
   ]
  }
 ],
 "metadata": {
  "kernelspec": {
   "display_name": "datas",
   "language": "python",
   "name": "python3"
  },
  "language_info": {
   "codemirror_mode": {
    "name": "ipython",
    "version": 3
   },
   "file_extension": ".py",
   "mimetype": "text/x-python",
   "name": "python",
   "nbconvert_exporter": "python",
   "pygments_lexer": "ipython3",
   "version": "3.10.11"
  }
 },
 "nbformat": 4,
 "nbformat_minor": 2
}
